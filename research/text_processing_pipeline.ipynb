{
 "cells": [
  {
   "cell_type": "code",
   "execution_count": 166,
   "id": "687c3d52-9fab-4e8b-958b-46d7b38ead16",
   "metadata": {},
   "outputs": [],
   "source": [
    "import pandas as pd\n",
    "import numpy as np\n",
    "import nltk\n",
    "from pymorphy3 import MorphAnalyzer\n",
    "from nltk.corpus import stopwords\n",
    "import re"
   ]
  },
  {
   "cell_type": "code",
   "execution_count": 167,
   "id": "f9da3fe3-9335-494a-afaa-81f1726c1079",
   "metadata": {},
   "outputs": [],
   "source": [
    "df_analyze = pd.read_csv('data/payments_main.tsv',index_col=False,sep='\\t', names = ['id','date','payment','text'])"
   ]
  },
  {
   "cell_type": "code",
   "execution_count": 168,
   "id": "9b1a101e-acd9-4e7c-9328-d7ba9c2f7b00",
   "metadata": {},
   "outputs": [
    {
     "data": {
      "text/html": [
       "<div>\n",
       "<style scoped>\n",
       "    .dataframe tbody tr th:only-of-type {\n",
       "        vertical-align: middle;\n",
       "    }\n",
       "\n",
       "    .dataframe tbody tr th {\n",
       "        vertical-align: top;\n",
       "    }\n",
       "\n",
       "    .dataframe thead th {\n",
       "        text-align: right;\n",
       "    }\n",
       "</style>\n",
       "<table border=\"1\" class=\"dataframe\">\n",
       "  <thead>\n",
       "    <tr style=\"text-align: right;\">\n",
       "      <th></th>\n",
       "      <th>id</th>\n",
       "      <th>date</th>\n",
       "      <th>payment</th>\n",
       "      <th>text</th>\n",
       "    </tr>\n",
       "  </thead>\n",
       "  <tbody>\n",
       "    <tr>\n",
       "      <th>0</th>\n",
       "      <td>1</td>\n",
       "      <td>07.11.2024</td>\n",
       "      <td>40500.00</td>\n",
       "      <td>За тур.поездку по договору №001 от 27.01.2023г</td>\n",
       "    </tr>\n",
       "    <tr>\n",
       "      <th>1</th>\n",
       "      <td>2</td>\n",
       "      <td>07.11.2024</td>\n",
       "      <td>32600,00</td>\n",
       "      <td>За оказание услуг по договору №53Б-02746 от 23...</td>\n",
       "    </tr>\n",
       "    <tr>\n",
       "      <th>2</th>\n",
       "      <td>3</td>\n",
       "      <td>07.11.2024</td>\n",
       "      <td>4710-00</td>\n",
       "      <td>Оплата штрафа</td>\n",
       "    </tr>\n",
       "    <tr>\n",
       "      <th>3</th>\n",
       "      <td>4</td>\n",
       "      <td>07.11.2024</td>\n",
       "      <td>30900-00</td>\n",
       "      <td>Лечение по договору №Д-00359/24 от 08.03.2025</td>\n",
       "    </tr>\n",
       "    <tr>\n",
       "      <th>4</th>\n",
       "      <td>5</td>\n",
       "      <td>07.11.2024</td>\n",
       "      <td>13200.00</td>\n",
       "      <td>Оплата основного долга за период с 16.12.2024г...</td>\n",
       "    </tr>\n",
       "  </tbody>\n",
       "</table>\n",
       "</div>"
      ],
      "text/plain": [
       "   id        date   payment                                               text\n",
       "0   1  07.11.2024  40500.00     За тур.поездку по договору №001 от 27.01.2023г\n",
       "1   2  07.11.2024  32600,00  За оказание услуг по договору №53Б-02746 от 23...\n",
       "2   3  07.11.2024   4710-00                                      Оплата штрафа\n",
       "3   4  07.11.2024  30900-00      Лечение по договору №Д-00359/24 от 08.03.2025\n",
       "4   5  07.11.2024  13200.00  Оплата основного долга за период с 16.12.2024г..."
      ]
     },
     "execution_count": 168,
     "metadata": {},
     "output_type": "execute_result"
    }
   ],
   "source": [
    "df_analyze.head()"
   ]
  },
  {
   "cell_type": "code",
   "execution_count": 169,
   "id": "41d08b14-f9f7-419d-a69d-c5c1717a3db2",
   "metadata": {},
   "outputs": [],
   "source": [
    "df_analyze = df_analyze.drop(columns = ['id','date'])"
   ]
  },
  {
   "cell_type": "code",
   "execution_count": 170,
   "id": "175744bf-a315-4ab2-9ee0-f011214e5d0e",
   "metadata": {},
   "outputs": [
    {
     "data": {
      "text/html": [
       "<div>\n",
       "<style scoped>\n",
       "    .dataframe tbody tr th:only-of-type {\n",
       "        vertical-align: middle;\n",
       "    }\n",
       "\n",
       "    .dataframe tbody tr th {\n",
       "        vertical-align: top;\n",
       "    }\n",
       "\n",
       "    .dataframe thead th {\n",
       "        text-align: right;\n",
       "    }\n",
       "</style>\n",
       "<table border=\"1\" class=\"dataframe\">\n",
       "  <thead>\n",
       "    <tr style=\"text-align: right;\">\n",
       "      <th></th>\n",
       "      <th>payment</th>\n",
       "      <th>text</th>\n",
       "    </tr>\n",
       "  </thead>\n",
       "  <tbody>\n",
       "    <tr>\n",
       "      <th>0</th>\n",
       "      <td>40500.00</td>\n",
       "      <td>За тур.поездку по договору №001 от 27.01.2023г</td>\n",
       "    </tr>\n",
       "    <tr>\n",
       "      <th>1</th>\n",
       "      <td>32600,00</td>\n",
       "      <td>За оказание услуг по договору №53Б-02746 от 23...</td>\n",
       "    </tr>\n",
       "    <tr>\n",
       "      <th>2</th>\n",
       "      <td>4710-00</td>\n",
       "      <td>Оплата штрафа</td>\n",
       "    </tr>\n",
       "    <tr>\n",
       "      <th>3</th>\n",
       "      <td>30900-00</td>\n",
       "      <td>Лечение по договору №Д-00359/24 от 08.03.2025</td>\n",
       "    </tr>\n",
       "    <tr>\n",
       "      <th>4</th>\n",
       "      <td>13200.00</td>\n",
       "      <td>Оплата основного долга за период с 16.12.2024г...</td>\n",
       "    </tr>\n",
       "  </tbody>\n",
       "</table>\n",
       "</div>"
      ],
      "text/plain": [
       "    payment                                               text\n",
       "0  40500.00     За тур.поездку по договору №001 от 27.01.2023г\n",
       "1  32600,00  За оказание услуг по договору №53Б-02746 от 23...\n",
       "2   4710-00                                      Оплата штрафа\n",
       "3  30900-00      Лечение по договору №Д-00359/24 от 08.03.2025\n",
       "4  13200.00  Оплата основного долга за период с 16.12.2024г..."
      ]
     },
     "execution_count": 170,
     "metadata": {},
     "output_type": "execute_result"
    }
   ],
   "source": [
    "df_analyze.head()"
   ]
  },
  {
   "cell_type": "markdown",
   "id": "813ec07c-284f-4b63-a29d-3f23289a23b7",
   "metadata": {},
   "source": [
    "#### Step-1: Remove non-cyrillic symbols"
   ]
  },
  {
   "cell_type": "code",
   "execution_count": 171,
   "id": "4b787fe6-dd42-42d9-a5eb-d1c96c94f60e",
   "metadata": {},
   "outputs": [],
   "source": [
    "def remove_non_cyrillic(text):\n",
    " cyrillic_pattern = r\"[^а-яА-ЯёЁ]+\"\n",
    " cleaned_text = re.sub(cyrillic_pattern, \" \", text)\n",
    " return cleaned_text"
   ]
  },
  {
   "cell_type": "code",
   "execution_count": 172,
   "id": "b9cb8c85-1e37-4cea-9c9b-a42c6d53b784",
   "metadata": {},
   "outputs": [],
   "source": [
    "df_analyze['text'] = df_analyze['text'].apply(remove_non_cyrillic)"
   ]
  },
  {
   "cell_type": "code",
   "execution_count": 173,
   "id": "510631ed-28a5-4118-8ede-d44fee3d27ca",
   "metadata": {},
   "outputs": [
    {
     "data": {
      "text/html": [
       "<div>\n",
       "<style scoped>\n",
       "    .dataframe tbody tr th:only-of-type {\n",
       "        vertical-align: middle;\n",
       "    }\n",
       "\n",
       "    .dataframe tbody tr th {\n",
       "        vertical-align: top;\n",
       "    }\n",
       "\n",
       "    .dataframe thead th {\n",
       "        text-align: right;\n",
       "    }\n",
       "</style>\n",
       "<table border=\"1\" class=\"dataframe\">\n",
       "  <thead>\n",
       "    <tr style=\"text-align: right;\">\n",
       "      <th></th>\n",
       "      <th>payment</th>\n",
       "      <th>text</th>\n",
       "    </tr>\n",
       "  </thead>\n",
       "  <tbody>\n",
       "    <tr>\n",
       "      <th>0</th>\n",
       "      <td>40500.00</td>\n",
       "      <td>За тур поездку по договору от г</td>\n",
       "    </tr>\n",
       "    <tr>\n",
       "      <th>1</th>\n",
       "      <td>32600,00</td>\n",
       "      <td>За оказание услуг по договору Б от</td>\n",
       "    </tr>\n",
       "    <tr>\n",
       "      <th>2</th>\n",
       "      <td>4710-00</td>\n",
       "      <td>Оплата штрафа</td>\n",
       "    </tr>\n",
       "    <tr>\n",
       "      <th>3</th>\n",
       "      <td>30900-00</td>\n",
       "      <td>Лечение по договору Д от</td>\n",
       "    </tr>\n",
       "    <tr>\n",
       "      <th>4</th>\n",
       "      <td>13200.00</td>\n",
       "      <td>Оплата основного долга за период с г по марта ...</td>\n",
       "    </tr>\n",
       "  </tbody>\n",
       "</table>\n",
       "</div>"
      ],
      "text/plain": [
       "    payment                                               text\n",
       "0  40500.00                    За тур поездку по договору от г\n",
       "1  32600,00                За оказание услуг по договору Б от \n",
       "2   4710-00                                      Оплата штрафа\n",
       "3  30900-00                          Лечение по договору Д от \n",
       "4  13200.00  Оплата основного долга за период с г по марта ..."
      ]
     },
     "execution_count": 173,
     "metadata": {},
     "output_type": "execute_result"
    }
   ],
   "source": [
    "df_analyze.head()"
   ]
  },
  {
   "cell_type": "markdown",
   "id": "3accdfb3-a610-41a1-b35d-e9555954741b",
   "metadata": {},
   "source": [
    "#### Step-1.5 Remove joined words"
   ]
  },
  {
   "cell_type": "markdown",
   "id": "531a2e64-ec9f-4181-82c1-9593d55f9b86",
   "metadata": {},
   "source": [
    "def split_joined_words(text):\n",
    "    splited_text = text.split(' ')\n",
    "    tokens = []\n",
    "    splited = False\n",
    "    for token in splited_text:\n",
    "        splited = False\n",
    "        for i in range(1, len(token)):\n",
    "            token = token.strip()\n",
    "            if not token[i-1].isupper() and token[i].isupper():\n",
    "                token1,token2 = token[0:i], token[i:]\n",
    "                splited = True\n",
    "                print(token1,token2)\n",
    "                tokens.append(f' {token1} ')\n",
    "                tokens.append(f' {token2} ')\n",
    "        if splited is False:\n",
    "            tokens.append(f' {token} ')\n",
    "    return ''.join(tokens)"
   ]
  },
  {
   "cell_type": "code",
   "execution_count": 174,
   "id": "441cced3-9db1-43f6-a6d1-084d193037c4",
   "metadata": {},
   "outputs": [],
   "source": [
    "def split_joined_words(text):\n",
    "    \n",
    "    tokens = []\n",
    "    \n",
    "    def split_token(split_points, text):           \n",
    "        for i in range(1,len(split_points)):\n",
    "            token = text[split_points[i-1]:split_points[i]]\n",
    "            tokens.append(f' {token} ')\n",
    "    \n",
    "    splited_text = text.split(' ')\n",
    "    for token in splited_text:\n",
    "        split_points = [0]\n",
    "        for i in range(1, len(token)):\n",
    "            token = token.strip()\n",
    "            if not token[i-1].isupper() and token[i].isupper():\n",
    "                split_points.append(i)\n",
    "        split_points.append(len(token))\n",
    "        split_token(split_points,token)\n",
    "                \n",
    "    return ''.join(tokens)"
   ]
  },
  {
   "cell_type": "code",
   "execution_count": 175,
   "id": "40c63c17-90c2-4db1-b089-398cf4267d0f",
   "metadata": {},
   "outputs": [],
   "source": [
    "df_analyze['text'] = df_analyze['text'].apply(split_joined_words)"
   ]
  },
  {
   "cell_type": "markdown",
   "id": "be55cb7d-b99e-4a35-b69e-469e35993112",
   "metadata": {},
   "source": [
    "#### Step-2: Apply stop words and lemmatize"
   ]
  },
  {
   "cell_type": "code",
   "execution_count": 176,
   "id": "a86bd155-6ad3-4d5c-81fd-06f46cd51f0c",
   "metadata": {},
   "outputs": [],
   "source": [
    "stopwords_ru = stopwords.words(\"russian\")\n",
    "morph = MorphAnalyzer()"
   ]
  },
  {
   "cell_type": "code",
   "execution_count": 177,
   "id": "0696fbea-78c0-4085-9ff8-348bf717612c",
   "metadata": {},
   "outputs": [],
   "source": [
    "def remove_stop_words(text):\n",
    "    text_splited = text.split(' ')\n",
    "    filtered_tokens = []\n",
    "    for token in text_splited:\n",
    "        if token not in stopwords_ru:\n",
    "            token = token.strip()\n",
    "            token = morph.normal_forms(token)[0]\n",
    "            if len(token) < 2:\n",
    "                continue\n",
    "            filtered_tokens.append(f' {token} ')\n",
    "    # if len(filtered_tokens) <= 2:\n",
    "    #    return None # ( ' ' ?)\n",
    "    return ''.join(filtered_tokens)"
   ]
  },
  {
   "cell_type": "code",
   "execution_count": 178,
   "id": "64da96c3-9798-4348-b0c8-e5016433d101",
   "metadata": {},
   "outputs": [],
   "source": [
    "df_analyze['text'] = df_analyze['text'].apply(remove_stop_words)"
   ]
  },
  {
   "cell_type": "code",
   "execution_count": 179,
   "id": "ee127f64-95f7-477d-85ee-2f3d8ab6237c",
   "metadata": {},
   "outputs": [
    {
     "data": {
      "text/html": [
       "<div>\n",
       "<style scoped>\n",
       "    .dataframe tbody tr th:only-of-type {\n",
       "        vertical-align: middle;\n",
       "    }\n",
       "\n",
       "    .dataframe tbody tr th {\n",
       "        vertical-align: top;\n",
       "    }\n",
       "\n",
       "    .dataframe thead th {\n",
       "        text-align: right;\n",
       "    }\n",
       "</style>\n",
       "<table border=\"1\" class=\"dataframe\">\n",
       "  <thead>\n",
       "    <tr style=\"text-align: right;\">\n",
       "      <th></th>\n",
       "      <th>payment</th>\n",
       "      <th>text</th>\n",
       "    </tr>\n",
       "  </thead>\n",
       "  <tbody>\n",
       "    <tr>\n",
       "      <th>0</th>\n",
       "      <td>40500.00</td>\n",
       "      <td>за  тур  поездка  договор</td>\n",
       "    </tr>\n",
       "    <tr>\n",
       "      <th>1</th>\n",
       "      <td>32600,00</td>\n",
       "      <td>за  оказание  услуга  договор</td>\n",
       "    </tr>\n",
       "    <tr>\n",
       "      <th>2</th>\n",
       "      <td>4710-00</td>\n",
       "      <td>оплата  штраф</td>\n",
       "    </tr>\n",
       "    <tr>\n",
       "      <th>3</th>\n",
       "      <td>30900-00</td>\n",
       "      <td>лечение  договор  далее</td>\n",
       "    </tr>\n",
       "    <tr>\n",
       "      <th>4</th>\n",
       "      <td>13200.00</td>\n",
       "      <td>оплата  основный  долг  период  март  договор...</td>\n",
       "    </tr>\n",
       "  </tbody>\n",
       "</table>\n",
       "</div>"
      ],
      "text/plain": [
       "    payment                                               text\n",
       "0  40500.00                         за  тур  поездка  договор \n",
       "1  32600,00                     за  оказание  услуга  договор \n",
       "2   4710-00                                     оплата  штраф \n",
       "3  30900-00                           лечение  договор  далее \n",
       "4  13200.00   оплата  основный  долг  период  март  договор..."
      ]
     },
     "execution_count": 179,
     "metadata": {},
     "output_type": "execute_result"
    }
   ],
   "source": [
    "df_analyze.head()"
   ]
  }
 ],
 "metadata": {
  "kernelspec": {
   "display_name": "Python 3 (ipykernel)",
   "language": "python",
   "name": "python3"
  },
  "language_info": {
   "codemirror_mode": {
    "name": "ipython",
    "version": 3
   },
   "file_extension": ".py",
   "mimetype": "text/x-python",
   "name": "python",
   "nbconvert_exporter": "python",
   "pygments_lexer": "ipython3",
   "version": "3.11.10"
  }
 },
 "nbformat": 4,
 "nbformat_minor": 5
}
